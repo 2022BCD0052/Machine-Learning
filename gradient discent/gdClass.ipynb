{
 "cells": [
  {
   "cell_type": "code",
   "execution_count": 68,
   "metadata": {},
   "outputs": [],
   "source": [
    "from sklearn.datasets import make_regression\n",
    "import matplotlib.pyplot as plot\n",
    "import numpy as np\n",
    "from sklearn.model_selection import cross_val_score"
   ]
  },
  {
   "cell_type": "code",
   "execution_count": 69,
   "metadata": {},
   "outputs": [],
   "source": [
    "X,y = make_regression(n_samples=100,n_features=1,n_informative=1,n_targets=1,noise=20)"
   ]
  },
  {
   "cell_type": "code",
   "execution_count": 70,
   "metadata": {},
   "outputs": [
    {
     "data": {
      "text/plain": [
       "(array([[ 1.33780765],\n",
       "        [-0.80924738],\n",
       "        [ 0.31038993],\n",
       "        [-1.07322092],\n",
       "        [ 1.095066  ],\n",
       "        [-0.31786829],\n",
       "        [-1.15056133],\n",
       "        [-0.76265328],\n",
       "        [ 0.50450074],\n",
       "        [ 1.30053776],\n",
       "        [-0.34113091],\n",
       "        [-0.66209353],\n",
       "        [ 1.29857577],\n",
       "        [ 0.07468897],\n",
       "        [-0.94127335],\n",
       "        [ 0.25021251],\n",
       "        [ 1.05147001],\n",
       "        [ 1.13541246],\n",
       "        [ 0.0027558 ],\n",
       "        [-1.29292126],\n",
       "        [-0.84624346],\n",
       "        [ 0.82532715],\n",
       "        [ 1.99220667],\n",
       "        [-1.87940664],\n",
       "        [ 0.04652199],\n",
       "        [ 0.61906731],\n",
       "        [ 0.93976577],\n",
       "        [ 0.04701571],\n",
       "        [ 1.40222933],\n",
       "        [ 0.62991382],\n",
       "        [ 0.12797957],\n",
       "        [-1.06532116],\n",
       "        [ 0.00703101],\n",
       "        [-0.17381987],\n",
       "        [ 2.20987642],\n",
       "        [-1.95331817],\n",
       "        [-0.46852568],\n",
       "        [-0.07423466],\n",
       "        [ 0.40812891],\n",
       "        [ 0.09315442],\n",
       "        [ 0.35550712],\n",
       "        [ 0.99899257],\n",
       "        [ 0.59973585],\n",
       "        [-1.19770444],\n",
       "        [-1.18751844],\n",
       "        [ 0.7180307 ],\n",
       "        [-1.57522385],\n",
       "        [ 1.57516092],\n",
       "        [-1.13076186],\n",
       "        [ 0.9512898 ],\n",
       "        [-0.77856067],\n",
       "        [ 1.68123681],\n",
       "        [-0.53873108],\n",
       "        [ 0.26257133],\n",
       "        [ 1.24437408],\n",
       "        [ 0.56907339],\n",
       "        [-0.45576802],\n",
       "        [-0.65635307],\n",
       "        [-0.48494598],\n",
       "        [-1.4418065 ],\n",
       "        [ 1.5071014 ],\n",
       "        [-0.1594322 ],\n",
       "        [-0.20682008],\n",
       "        [ 0.93270332],\n",
       "        [ 0.69116509],\n",
       "        [ 1.1893222 ],\n",
       "        [ 1.23362266],\n",
       "        [-0.58809484],\n",
       "        [ 2.29255541],\n",
       "        [ 0.39040049],\n",
       "        [-1.59515832],\n",
       "        [-0.05375172],\n",
       "        [ 2.26571506],\n",
       "        [-0.07668269],\n",
       "        [ 0.48968509],\n",
       "        [-1.95394007],\n",
       "        [ 1.03806788],\n",
       "        [ 0.86536476],\n",
       "        [ 1.58319725],\n",
       "        [ 0.65441555],\n",
       "        [-0.73765138],\n",
       "        [-1.43282422],\n",
       "        [-1.29560288],\n",
       "        [-0.69246099],\n",
       "        [ 0.50282766],\n",
       "        [ 0.89934935],\n",
       "        [ 1.53069395],\n",
       "        [ 0.90496552],\n",
       "        [-0.64676884],\n",
       "        [ 1.03209737],\n",
       "        [ 1.52225408],\n",
       "        [ 0.22921714],\n",
       "        [-0.28343826],\n",
       "        [ 0.50537136],\n",
       "        [ 0.56636215],\n",
       "        [ 0.37131028],\n",
       "        [-0.14466796],\n",
       "        [-0.09175392],\n",
       "        [-0.27042085],\n",
       "        [-0.90056652]]),\n",
       " array([ 23.61622489, -51.82890812,  10.04637296, -54.3887935 ,\n",
       "        -24.06661989,   1.75584212, -41.79681724,  -5.13202487,\n",
       "         10.26974717,  40.59372525, -26.83657488, -23.55206831,\n",
       "         49.03056186, -70.63527357, -49.56480478,  12.02768198,\n",
       "         25.07402326,  26.29172661,  -1.79104872, -69.57524263,\n",
       "        -18.80630503,  29.9335054 , 112.53204333, -67.0728553 ,\n",
       "          8.77330699,  19.60574977,  38.85461911,  -2.34727371,\n",
       "         51.79342557, -26.26574474,   2.77708342, -48.80100699,\n",
       "         16.08823535, -11.23410129, 130.01489687, -83.74549246,\n",
       "        -13.05809562, -19.39951868,  11.99485163,   8.53109861,\n",
       "         30.04057876,  50.48176231,  11.0164253 , -37.54538573,\n",
       "        -52.40686297,  55.31822255, -87.93577692,  46.12404533,\n",
       "        -34.40293041,  39.45508611,  -3.75950224,  64.32948472,\n",
       "        -26.30386728,  12.65207956,  29.26463784,  23.63969402,\n",
       "        -13.64412416, -17.25439662, -30.80702334, -61.69773455,\n",
       "         90.19042919, -21.83367539,  -7.65291244,  54.87661058,\n",
       "         14.82943126,  63.84541886,   9.34278476, -15.71381418,\n",
       "         72.13822781,  40.74543565, -70.39382901,  14.02037022,\n",
       "         87.0478006 ,  22.668154  ,  11.65474804, -79.42343417,\n",
       "         49.5788498 ,  12.91322313,  88.04644725,  23.21727157,\n",
       "        -62.05480358, -65.9773782 , -63.06514739,  -1.63147154,\n",
       "          8.48040555,  30.37278623,  61.56317926,  59.72158821,\n",
       "        -39.09561763,   2.18930708,  45.10253276,  -2.4428589 ,\n",
       "          9.1334654 ,  20.98804831,  20.02987878,  -3.38243534,\n",
       "         17.00090373, -28.84263328, -35.24617627,  -8.93766024]))"
      ]
     },
     "execution_count": 70,
     "metadata": {},
     "output_type": "execute_result"
    }
   ],
   "source": [
    "X,y"
   ]
  },
  {
   "cell_type": "code",
   "execution_count": 71,
   "metadata": {},
   "outputs": [
    {
     "data": {
      "text/plain": [
       "<matplotlib.collections.PathCollection at 0x751a625cc860>"
      ]
     },
     "execution_count": 71,
     "metadata": {},
     "output_type": "execute_result"
    },
    {
     "data": {
      "image/png": "[encoded data removed]",
      "text/plain": [
       "<Figure size 640x480 with 1 Axes>"
      ]
     },
     "metadata": {},
     "output_type": "display_data"
    }
   ],
   "source": [
    "plot.scatter(X,y)"
   ]
  },
  {
   "cell_type": "code",
   "execution_count": 89,
   "metadata": {},
   "outputs": [],
   "source": [
    "from sklearn.model_selection import train_test_split\n",
    "X_train, X_test, y_train, y_test = train_test_split(X, y, test_size=0.3, random_state=42)"
   ]
  },
  {
   "cell_type": "code",
   "execution_count": 90,
   "metadata": {},
   "outputs": [],
   "source": [
    "from sklearn.linear_model import LinearRegression"
   ]
  },
  {
   "cell_type": "code",
   "execution_count": 73,
   "metadata": {},
   "outputs": [],
   "source": [
    "lr = LinearRegression()"
   ]
  },
  {
   "cell_type": "code",
   "execution_count": 74,
   "metadata": {},
   "outputs": [
    {
     "name": "stdout",
     "output_type": "stream",
     "text": [
      "[39.39215306]\n",
      "-2.6928503468500975\n"
     ]
    }
   ],
   "source": [
    "lr.fit(X,y)\n",
    "print(lr.coef_)\n",
    "print(lr.intercept_)"
   ]
  },
  {
   "cell_type": "code",
   "execution_count": 93,
   "metadata": {},
   "outputs": [
    {
     "name": "stdout",
     "output_type": "stream",
     "text": [
      "420.3952487193534\n",
      "0.7534191562017561\n"
     ]
    }
   ],
   "source": [
    "y_pred = lr.predict(X_test)\n",
    "from sklearn.metrics import mean_squared_error,r2_score\n",
    "print(mean_squared_error(y_test,y_pred))\n",
    "print(r2_score(y_test,y_pred))"
   ]
  },
  {
   "cell_type": "code",
   "execution_count": null,
   "metadata": {},
   "outputs": [],
   "source": []
  },
  {
   "cell_type": "code",
   "execution_count": 75,
   "metadata": {},
   "outputs": [],
   "source": [
    "cross_val_score = np.mean(cross_val_score(lr,X,y,scoring='r2',cv=10))"
   ]
  },
  {
   "cell_type": "code",
   "execution_count": 76,
   "metadata": {},
   "outputs": [
    {
     "data": {
      "text/plain": [
       "0.7036353593694242"
      ]
     },
     "execution_count": 76,
     "metadata": {},
     "output_type": "execute_result"
    }
   ],
   "source": [
    "cross_val_score"
   ]
  },
  {
   "cell_type": "code",
   "execution_count": 85,
   "metadata": {},
   "outputs": [],
   "source": [
    "class GDRegresser:\n",
    "    def __init__(self,learning_rate,epochs):\n",
    "        self.m = 100\n",
    "        self.b = -120\n",
    "        self.lr = learning_rate\n",
    "        self.epochs = epochs\n",
    "    \n",
    "    def fit(self, X, y):\n",
    "        #  calculate the b using gd\n",
    "        for i in range(self.epochs):\n",
    "            loss_slope_b = -2 * np.sum(y - self.m*X.ravel() -self.b)\n",
    "            loss_slope_m = -2 * np.sum((y - self.m*X.ravel() -self.b)*X.ravel())\n",
    "            self.b = self.b -(self.lr *loss_slope_b)\n",
    "            self.m = self.m -(self.lr *loss_slope_m)\n",
    "        \n",
    "        print(self.b, self.m)\n",
    "    \n",
    "    def predict(self, X):\n",
    "        return self.m*X.ravel() + self.b\n",
    "\n",
    "\n",
    "\n"
   ]
  },
  {
   "cell_type": "code",
   "execution_count": 86,
   "metadata": {},
   "outputs": [],
   "source": [
    "gd = GDRegresser(0.001,40)\n"
   ]
  },
  {
   "cell_type": "code",
   "execution_count": 87,
   "metadata": {},
   "outputs": [
    {
     "name": "stdout",
     "output_type": "stream",
     "text": [
      "-2.7433932751622314 39.43703304109997\n"
     ]
    },
    {
     "data": {
      "text/plain": [
       "array([ 50.01577134, -34.65770875,   9.49746449, -45.06804235,\n",
       "        40.44276068, -15.27917567, -48.1181183 , -32.82017604,\n",
       "        17.15261907,  48.54595752, -16.19658427, -28.85439781,\n",
       "        48.46858223,   0.20211818, -39.86442137,   7.12424559,\n",
       "        38.72346437,  42.0339053 ,  -2.6347126 , -53.73237168,\n",
       "       -36.11672464,  29.80506086,  75.82332718, -76.86161517,\n",
       "        -0.90870403,  21.67078471,  34.31818048,  -0.88923336,\n",
       "        52.55637102,  22.09853872,   2.30374113, -44.75649907,\n",
       "        -2.46611097,  -9.59833324,  84.40757615, -79.77646643,\n",
       "       -21.22065598,  -5.67098791,  13.35199988,   0.9303405 ,\n",
       "        11.27675285,  36.65390962,  20.90840922, -49.97730298,\n",
       "       -49.57559736,  25.57360709, -64.86554819,  59.37628016,\n",
       "       -47.33728623,  34.77265418, -33.44751611,  63.55959817,\n",
       "       -23.98934882,   7.61164097,  46.33102828,  19.69917284,\n",
       "       -20.71753166, -28.62801083, -21.86822391, -59.60396391,\n",
       "        56.69221434,  -9.03092616, -10.89976379,  34.03965842,\n",
       "        24.51410713,  44.15994545,  45.90702436, -25.93610894,\n",
       "        87.66819021,  12.65284385, -65.65170479,  -4.86320169,\n",
       "        86.60968648,  -5.76753121,  16.56833375, -79.80099233,\n",
       "        38.19492387,  31.38402541,  59.693209  ,  23.06481442,\n",
       "       -31.83417515, -59.24972941, -53.83812672, -30.05200011,\n",
       "        17.08663783,  32.72427676,  57.62263441,  32.94576176,\n",
       "       -28.25003727,  37.95946466,  57.28979113,   6.29625069,\n",
       "       -13.92135713,  17.18695372,  19.59224937,  11.89998247,\n",
       "        -8.4486683 ,  -6.36189557, -13.4079891 , -38.25906482])"
      ]
     },
     "execution_count": 87,
     "metadata": {},
     "output_type": "execute_result"
    }
   ],
   "source": [
    "gd.fit(X,y)\n",
    "gd.predict(X)"
   ]
  },
  {
   "cell_type": "code",
   "execution_count": 38,
   "metadata": {},
   "outputs": [
    {
     "data": {
      "text/plain": [
       "[<matplotlib.lines.Line2D at 0x751a719e1460>]"
      ]
     },
     "execution_count": 38,
     "metadata": {},
     "output_type": "execute_result"
    },
    {
     "data": {
      "image/png": "[encoded data removed]",
      "text/plain": [
       "<Figure size 640x480 with 1 Axes>"
      ]
     },
     "metadata": {},
     "output_type": "display_data"
    }
   ],
   "source": [
    "# plot\n",
    "plot.scatter(X,y)\n",
    "plot.plot(X, gd.m*X.ravel() + gd.b, c='r')\n"
   ]
  },
  {
   "cell_type": "code",
   "execution_count": 94,
   "metadata": {},
   "outputs": [
    {
     "name": "stdout",
     "output_type": "stream",
     "text": [
      "420.3952487193534\n",
      "0.7534191562017561\n"
     ]
    }
   ],
   "source": [
    "y_pred = lr.predict(X_test)\n",
    "from sklearn.metrics import mean_squared_error,r2_score\n",
    "print(mean_squared_error(y_test,y_pred))\n",
    "print(r2_score(y_test,y_pred))"
   ]
  },
  {
   "cell_type": "code",
   "execution_count": 95,
   "metadata": {},
   "outputs": [
    {
     "name": "stdout",
     "output_type": "stream",
     "text": [
      "420.4917719610626\n",
      "0.753362540951086\n"
     ]
    }
   ],
   "source": [
    "y_pred = gd.predict(X_test)\n",
    "from sklearn.metrics import mean_squared_error,r2_score\n",
    "print(mean_squared_error(y_test,y_pred))\n",
    "print(r2_score(y_test,y_pred))"
   ]
  }
 ],
 "metadata": {
  "kernelspec": {
   "display_name": ".python_lab",
   "language": "python",
   "name": "python3"
  },
  "language_info": {
   "codemirror_mode": {
    "name": "ipython",
    "version": 3
   },
   "file_extension": ".py",
   "mimetype": "text/x-python",
   "name": "python",
   "nbconvert_exporter": "python",
   "pygments_lexer": "ipython3",
   "version": "3.12.3"
  }
 },
 "nbformat": 4,
 "nbformat_minor": 2
}
